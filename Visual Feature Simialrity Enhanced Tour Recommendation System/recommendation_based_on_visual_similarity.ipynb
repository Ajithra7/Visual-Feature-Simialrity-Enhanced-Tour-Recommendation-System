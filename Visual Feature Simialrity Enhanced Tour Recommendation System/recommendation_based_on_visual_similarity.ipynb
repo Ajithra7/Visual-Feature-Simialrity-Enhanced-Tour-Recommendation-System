{
  "cells": [
    {
      "cell_type": "code",
      "source": [
        "from google.colab import drive\n",
        "drive.mount('/content/drive')"
      ],
      "metadata": {
        "id": "nUNWb-Tjtp0T"
      },
      "execution_count": null,
      "outputs": []
    },
    {
      "cell_type": "code",
      "source": [
        "# import necessary libraries and modules\n",
        "from keras.applications import vgg16\n",
        "from keras.applications.imagenet_utils import preprocess_input\n",
        "from keras.preprocessing import image\n",
        "from keras.preprocessing.image import ImageDataGenerator\n",
        "from tensorflow.keras.utils import load_img, img_to_array\n",
        "\n",
        "from keras.models import Model\n",
        "from PIL import Image\n",
        "import os\n",
        "import matplotlib.pyplot as plt\n",
        "import numpy as np\n",
        "from sklearn.metrics.pairwise import cosine_similarity\n",
        "import pandas as pd"
      ],
      "metadata": {
        "id": "d3rrE8EfzhkX"
      },
      "execution_count": null,
      "outputs": []
    },
    {
      "metadata": {
        "trusted": true,
        "collapsed": true,
        "_uuid": "31d39be5ff523993bb246ccafcc172c6e9aadce0",
        "id": "TYJA0Ai3r1qs"
      },
      "cell_type": "code",
      "source": [
        "# image parameter\n",
        "\n",
        "imgs_path = \"/content/drive/MyDrive/tour/\"\n",
        "imgs_model_width, imgs_model_height = 224, 224\n",
        "\n",
        "# number of most similar images to retrieve\n",
        "\n",
        "no_closest_images = 5"
      ],
      "execution_count": null,
      "outputs": []
    },
    {
      "metadata": {
        "trusted": true,
        "scrolled": true,
        "_uuid": "ef249050ecf032959c607bbe75fe73243de2b139",
        "collapsed": true,
        "id": "tXK7LA1Br1qu"
      },
      "cell_type": "code",
      "source": [
        "# load the model\n",
        "vgg_model = vgg16.VGG16(weights='imagenet')\n",
        "\n",
        "# remove the last layers in order to get features instead of predictions\n",
        "feature_extract = Model(inputs=vgg_model.input, outputs=vgg_model.get_layer(\"fc2\").output)\n",
        "\n",
        "# print the layers of the CNN\n",
        "feature_extract.summary()"
      ],
      "execution_count": null,
      "outputs": []
    },
    {
      "metadata": {
        "trusted": true,
        "_uuid": "8a2095a63d2f1a684b945f6324eaffacf80ef623",
        "collapsed": true,
        "id": "HunDFgPPr1qw"
      },
      "cell_type": "code",
      "source": [
        "files = [imgs_path + x for x in os.listdir(imgs_path) if \".jpg\" in x]\n",
        "\n",
        "print(\"number of images:\",len(files))"
      ],
      "execution_count": null,
      "outputs": []
    },
    {
      "metadata": {
        "trusted": true,
        "_uuid": "e22ba7988e1d6da1cfbf48d316022eaf1c083622",
        "collapsed": true,
        "id": "eZ5cv2Bhr1qy"
      },
      "cell_type": "code",
      "source": [
        "# load an image in PIL format\n",
        "original = load_img(files[1212], target_size=(imgs_model_width, imgs_model_height))\n",
        "plt.imshow(original)\n",
        "plt.show()"
      ],
      "execution_count": null,
      "outputs": []
    },
    {
      "metadata": {
        "trusted": true,
        "_uuid": "0402651e962e116504cd3a60a2bd891ec36cc04b",
        "collapsed": true,
        "id": "ahdiZitxr1qz"
      },
      "cell_type": "code",
      "source": [
        "\n",
        "numpy_image = img_to_array(original)\n",
        "\n",
        "\n",
        "image_batch = np.expand_dims(numpy_image, axis=0)\n",
        "print('image batch size', image_batch.shape)\n",
        "\n",
        "# prepare the image for the VGG model\n",
        "processed_image = preprocess_input(image_batch.copy())"
      ],
      "execution_count": null,
      "outputs": []
    },
    {
      "metadata": {
        "trusted": true,
        "_uuid": "ef55943fb35a862592d82c4e34f2f0b8c0b1cc07",
        "collapsed": true,
        "id": "YgjDqpxVr1qz"
      },
      "cell_type": "code",
      "source": [
        "# get the extracted features\n",
        "img_features = feature_extract.predict(processed_image)\n",
        "print(\"number of image features:\",img_features.size)\n",
        "img_features"
      ],
      "execution_count": null,
      "outputs": []
    },
    {
      "metadata": {
        "trusted": true,
        "_uuid": "ce00de828b3c069d0f428b3acb2c9c97e6e0abe9",
        "collapsed": true,
        "id": "gL9fym4fr1q0"
      },
      "cell_type": "code",
      "source": [
        "# load all the images and prepare them for feeding into the CNN\n",
        "\n",
        "importedImages = []\n",
        "\n",
        "for f in files:\n",
        "    filename = f\n",
        "    original = load_img(filename, target_size=(224, 224))\n",
        "    numpy_image = img_to_array(original)\n",
        "    image_batch = np.expand_dims(numpy_image, axis=0)\n",
        "    \n",
        "    importedImages.append(image_batch)\n",
        "    \n",
        "images = np.vstack(importedImages)\n",
        "\n",
        "processed_imgs = preprocess_input(images.copy())\n"
      ],
      "execution_count": null,
      "outputs": []
    },
    {
      "metadata": {
        "trusted": true,
        "_uuid": "213926aeb8cb456cc2f733f8ee5b4c9b6f09fc99",
        "collapsed": true,
        "id": "Tk-X2wyJr1q1"
      },
      "cell_type": "code",
      "source": [
        "# extract the images features\n",
        "\n",
        "imgs_features = feature_extract.predict(processed_imgs)\n",
        "imgs_features.shape"
      ],
      "execution_count": null,
      "outputs": []
    },
    {
      "cell_type": "code",
      "source": [],
      "metadata": {
        "id": "onFPfGC63bU4"
      },
      "execution_count": null,
      "outputs": []
    },
    {
      "metadata": {
        "trusted": true,
        "_uuid": "0c7655e45c67132cbdcf899a4aaad6741bccb16b",
        "scrolled": true,
        "collapsed": true,
        "id": "p4dXZ-ugr1q2"
      },
      "cell_type": "code",
      "source": [
        "# compute cosine similarities between images\n",
        "\n",
        "similarity = cosine_similarity(imgs_features)\n",
        "\n",
        "# store the results into a pandas dataframe\n",
        "similarity_df = pd.DataFrame(similarity, columns=files, index=files)\n",
        "similarity_df.head()"
      ],
      "execution_count": null,
      "outputs": []
    },
    {
      "metadata": {
        "trusted": true,
        "collapsed": true,
        "_uuid": "2ffb452f95bc65eed48d60bfabbc06360ab8504f",
        "id": "4Re6bN4hr1q3"
      },
      "cell_type": "code",
      "source": [
        "# function to recommend the similar places for desired\n",
        "\n",
        "def recommendations(given_img):\n",
        "\n",
        "  \n",
        "    print(\"DesiredS_place:\")\n",
        "\n",
        "    original = load_img(given_img, target_size=(imgs_model_width, imgs_model_height))\n",
        "    plt.imshow(original)\n",
        "    plt.show()\n",
        "\n",
        "    \n",
        "    print(\"--------Recommended Places:----------\")\n",
        "\n",
        "    closest_imgs = similarity_df[given_img].sort_values(ascending=False)[1:no_closest_images+1].index\n",
        "    closest_imgs_scores = similarity_df[given_img].sort_values(ascending=False)[1:no_closest_images+1]\n",
        "\n",
        "    for i in range(0,len(closest_imgs)):\n",
        "        original = load_img(closest_imgs[i], target_size=(imgs_model_width, imgs_model_height))\n",
        "        plt.imshow(original)\n",
        "        plt.show()\n",
        "        print(\"similarity score : \",closest_imgs_scores[i])"
      ],
      "execution_count": null,
      "outputs": []
    },
    {
      "metadata": {
        "trusted": true,
        "_uuid": "fa813811e21efc0a550495840658cd7f2e09e66c",
        "collapsed": true,
        "id": "6I9BMKjQr1q3"
      },
      "cell_type": "code",
      "source": [
        "recommendations(files[445])"
      ],
      "execution_count": null,
      "outputs": []
    },
    {
      "metadata": {
        "trusted": true,
        "_uuid": "b12c4d58961bf426a51daaf5b343a2bce9b52eb8",
        "collapsed": true,
        "id": "M4AHW6d1r1q4"
      },
      "cell_type": "code",
      "source": [
        "recommendations(files[100])"
      ],
      "execution_count": null,
      "outputs": []
    },
    {
      "metadata": {
        "trusted": true,
        "_uuid": "24c3b0d7710b505e398940fc0b7fe515789ada41",
        "collapsed": true,
        "id": "TsrLojsqr1q4"
      },
      "cell_type": "code",
      "source": [
        "recommendations(files[902])"
      ],
      "execution_count": null,
      "outputs": []
    },
    {
      "metadata": {
        "trusted": true,
        "_uuid": "b1b2bccae32b1dd4969b785def390ce54933da28",
        "collapsed": true,
        "id": "THHgSuDxr1q5"
      },
      "cell_type": "code",
      "source": [
        "recommendations(files[1141])"
      ],
      "execution_count": null,
      "outputs": []
    },
    {
      "metadata": {
        "trusted": true,
        "_uuid": "47c0ab3b43a5622c7832f6f506f4a570f16f5c14",
        "collapsed": true,
        "id": "AeHsqCoOr1q5"
      },
      "cell_type": "code",
      "source": [
        "recommendations(files[725])"
      ],
      "execution_count": null,
      "outputs": []
    },
    {
      "cell_type": "code",
      "source": [
        "recommendations(files[1078])"
      ],
      "metadata": {
        "id": "jsb19yg9FhO_"
      },
      "execution_count": null,
      "outputs": []
    },
    {
      "cell_type": "code",
      "source": [
        "recommendations(files[175])"
      ],
      "metadata": {
        "id": "mqcuxuXAFltc"
      },
      "execution_count": null,
      "outputs": []
    },
    {
      "cell_type": "code",
      "source": [
        "recommendations(files[5])"
      ],
      "metadata": {
        "id": "VV2roM9Qb6Yk"
      },
      "execution_count": null,
      "outputs": []
    },
    {
      "cell_type": "code",
      "source": [],
      "metadata": {
        "id": "P9Ofsxkd5aEU"
      },
      "execution_count": null,
      "outputs": []
    }
  ],
  "metadata": {
    "kernelspec": {
      "display_name": "Python 3",
      "language": "python",
      "name": "python3"
    },
    "language_info": {
      "name": "python",
      "version": "3.6.6",
      "mimetype": "text/x-python",
      "codemirror_mode": {
        "name": "ipython",
        "version": 3
      },
      "pygments_lexer": "ipython3",
      "nbconvert_exporter": "python",
      "file_extension": ".py"
    },
    "colab": {
      "private_outputs": true,
      "provenance": []
    },
    "accelerator": "GPU",
    "gpuClass": "standard"
  },
  "nbformat": 4,
  "nbformat_minor": 0
}